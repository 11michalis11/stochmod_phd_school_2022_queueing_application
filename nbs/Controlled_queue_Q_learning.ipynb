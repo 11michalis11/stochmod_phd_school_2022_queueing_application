{
 "cells": [
  {
   "cell_type": "code",
   "execution_count": 1,
   "id": "db6ae49e",
   "metadata": {},
   "outputs": [],
   "source": [
    "import itertools\n",
    "from copy import deepcopy\n",
    "\n",
    "import numpy as np\n",
    "\n",
    "# from value_iteration import run_reinforcement_learning"
   ]
  },
  {
   "cell_type": "code",
   "execution_count": 179,
   "id": "ad6d8eef",
   "metadata": {},
   "outputs": [],
   "source": [
    "lam = 2\n",
    "mu1 = 0.1\n",
    "mu2 = 2\n",
    "K = 25"
   ]
  },
  {
   "cell_type": "code",
   "execution_count": 180,
   "id": "674cefe7",
   "metadata": {},
   "outputs": [],
   "source": [
    "V = np.zeros(shape=(K+1, 2, 2))"
   ]
  },
  {
   "cell_type": "code",
   "execution_count": null,
   "id": "2f01bb8f",
   "metadata": {},
   "outputs": [],
   "source": [
    "def create_state_space_for_two_servers(queue_capacity):\n",
    "    \"\"\"\n",
    "    Create a state space for a given queue capacity.\n",
    "    \"\"\"\n",
    "    return tuple(itertools.product(range(queue_capacity + 1), range(2), range(2)))"
   ]
  },
  {
   "cell_type": "code",
   "execution_count": null,
   "id": "c6681b3a",
   "metadata": {},
   "outputs": [],
   "source": [
    "def get_all_actions(Q, all_states, queue_capacity):\n",
    "    \"\"\"\n",
    "    Get all actions for a given state.\n",
    "    \"\"\"\n",
    "    actions = {}\n",
    "    for state in all_states:\n",
    "        actions[state] = exploit_policy(state, Q)\n",
    "    return actions"
   ]
  },
  {
   "cell_type": "code",
   "execution_count": 181,
   "id": "a8f6ac81",
   "metadata": {},
   "outputs": [],
   "source": [
    "def explore_policy(state):\n",
    "    return [0.34, 0.33, 0.33]"
   ]
  },
  {
   "cell_type": "code",
   "execution_count": 182,
   "id": "0ac15010",
   "metadata": {},
   "outputs": [],
   "source": [
    "def exploit_policy(state, Q):\n",
    "    return np.argmax(Q[state[0], state[1], state[2], :])"
   ]
  },
  {
   "cell_type": "code",
   "execution_count": 183,
   "id": "53c02a98",
   "metadata": {},
   "outputs": [],
   "source": [
    "def select_action(state, epsilon, actions, Q_table):\n",
    "    if np.random.rand() < epsilon: # policy == 'explore'\n",
    "        return np.random.choice(actions)\n",
    "    else: # Exploit\n",
    "        return exploit_policy(state, Q_table) "
   ]
  },
  {
   "cell_type": "code",
   "execution_count": 239,
   "id": "431fd6e2",
   "metadata": {},
   "outputs": [],
   "source": [
    "def state_transition(state, par):\n",
    "    tot_prob = sum(par[:-1])\n",
    "    lam, mu1, mu2, K = par\n",
    "    # tot_prob = lam + mu1 * state[1] + mu2 * state[2]\n",
    "\n",
    "    # probs = [\n",
    "    #     lam / tot_prob, (mu1 * state[1]) / tot_prob, (mu2 * state[2]) / tot_prob\n",
    "    # ]\n",
    "\n",
    "    prob_arr = lam / tot_prob\n",
    "    prob_leave1 = mu1 / tot_prob\n",
    "    prob_leave2 = mu2 / tot_prob\n",
    "    \n",
    "    # actions_and_probs = tuple(enumerate(probs))\n",
    "    next_transition = np.random.choice(\n",
    "        [0, 1, 2], p=[prob_arr, prob_leave1, prob_leave2]\n",
    "    )\n",
    "    \n",
    "    if next_transition == 0 and state[0] < K:\n",
    "        state[0] += 1\n",
    "    elif next_transition == 1 and state[1] == 1:\n",
    "        state[1] -= 1\n",
    "    elif next_transition == 2 and state[2] == 1:\n",
    "        state[2] -= 1\n",
    "    return state"
   ]
  },
  {
   "cell_type": "code",
   "execution_count": 240,
   "id": "874bd0c7",
   "metadata": {},
   "outputs": [],
   "source": [
    "def state_transition_monkey(state, action): # return state, cost/reward\n",
    "    s0, s1, s2 = state\n",
    "    if s0 == 0:\n",
    "        if action == 0:\n",
    "            return [s0, s1, s2], -(s0 + s1 + s2) ** 2\n",
    "        else:\n",
    "            return [s0, s1, s2], -1000\n",
    "    else:\n",
    "        if s1 == 1 and action == 1:\n",
    "            return [s0, s1, s2], -1000\n",
    "        elif s1 == 0 and action == 1:\n",
    "            return [s0-1, s1+1, s2], -(s0 + s1 + s2) ** 2\n",
    "        elif s2 == 1 and action == 2:\n",
    "            return [s0, s1, s2], -1000\n",
    "        elif s2 == 0 and action == 2:\n",
    "            return [s0-1, s1, s2+1], -(s0 + s1 + s2) ** 2\n",
    "        elif action == 0:\n",
    "            return [s0, s1, s2], -(s0 + s1 + s2) ** 2\n",
    "    raise ValueError(f\"check {action, [s0, s1, s2]}\") "
   ]
  },
  {
   "cell_type": "code",
   "execution_count": 241,
   "id": "b66e5d10",
   "metadata": {},
   "outputs": [],
   "source": [
    "def q_learning(par, gamma=0.99, alpha=0.2, n_episodes=100, n_steps=1000):\n",
    "    \n",
    "    states = np.zeros(shape=(K+1, 2, 2))\n",
    "    actions = [0, 1, 2]\n",
    "\n",
    "    Q = np.ones(shape=(K+1, 2, 2, len(actions))) * (-K)\n",
    "    \n",
    "    while True:\n",
    "        state = [0, 0, 0]    \n",
    "        old_Q = deepcopy(Q)\n",
    "\n",
    "        for step in range(n_steps):\n",
    "            # Observe event\n",
    "            old_state = deepcopy(state)\n",
    "            state = state_transition(state, par)\n",
    "\n",
    "            # Choose action\n",
    "            action = select_action(state, 0.5, actions, Q)\n",
    "\n",
    "            # Apply action / observe next state and rewards\n",
    "            new_state, reward = state_transition_monkey(state, action)\n",
    "\n",
    "            # Compute delta_t\n",
    "            delta = np.abs(np.array(new_state) - np.array(old_state)).max()\n",
    "\n",
    "            # Update Q value\n",
    "            best_achievable_pol = exploit_policy(new_state, Q)\n",
    "            best_achievable_rew = Q[new_state[0], new_state[1], new_state[2], best_achievable_pol]\n",
    "\n",
    "            \n",
    "            Q[state[0], state[1], state[2], action] += alpha * (\n",
    "                reward + gamma * best_achievable_rew - Q[state[0], state[1], state[2], action]\n",
    "            )\n",
    "        \n",
    "        delta_Q = np.abs(old_Q - Q)\n",
    "        if delta_Q.max() < 1e-1:\n",
    "            break\n",
    "        \n",
    "    return Q"
   ]
  },
  {
   "cell_type": "code",
   "execution_count": 242,
   "id": "dc5b7864",
   "metadata": {},
   "outputs": [],
   "source": [
    "lam = 2\n",
    "mu1 = 0.1\n",
    "mu2 = 2\n",
    "K = 40"
   ]
  },
  {
   "cell_type": "code",
   "execution_count": 243,
   "id": "992c63a4",
   "metadata": {},
   "outputs": [],
   "source": [
    "par = [lam, mu1, mu2, K]\n",
    "Q = q_learning(par=par, alpha=0.01, gamma=0.99)"
   ]
  },
  {
   "cell_type": "code",
   "execution_count": null,
   "id": "fbb30973",
   "metadata": {},
   "outputs": [],
   "source": []
  },
  {
   "cell_type": "code",
   "execution_count": 232,
   "id": "2f01bb8f",
   "metadata": {},
   "outputs": [],
   "source": [
    "def create_state_space_for_two_servers(queue_capacity):\n",
    "    \"\"\"\n",
    "    Create a state space for a given queue capacity.\n",
    "    \"\"\"\n",
    "    return tuple(itertools.product(range(queue_capacity + 1), range(2), range(2)))"
   ]
  },
  {
   "cell_type": "code",
   "execution_count": 233,
   "id": "c6681b3a",
   "metadata": {},
   "outputs": [],
   "source": [
    "def get_all_actions(Q, all_states, queue_capacity):\n",
    "    \"\"\"\n",
    "    Get all actions for a given state.\n",
    "    \"\"\"\n",
    "    actions = {}\n",
    "    for state in all_states:\n",
    "        actions[state] = exploit_policy(state, Q)\n",
    "    return actions"
   ]
  },
  {
   "cell_type": "code",
   "execution_count": 234,
   "id": "7a1fe233",
   "metadata": {},
   "outputs": [],
   "source": [
    "state_space = create_state_space_for_two_servers(K)\n",
    "actions = get_all_actions(Q, state_space, K)"
   ]
  },
  {
   "cell_type": "code",
   "execution_count": 235,
   "id": "c295997e",
   "metadata": {},
   "outputs": [
    {
     "data": {
      "text/plain": [
       "(((0, 0, 0), 0),\n",
       " ((0, 0, 1), 0),\n",
       " ((0, 1, 0), 0),\n",
       " ((0, 1, 1), 0),\n",
       " ((1, 0, 0), 2),\n",
       " ((1, 0, 1), 0),\n",
       " ((1, 1, 0), 0),\n",
       " ((1, 1, 1), 0),\n",
       " ((2, 0, 0), 2),\n",
       " ((2, 0, 1), 0),\n",
       " ((2, 1, 0), 0),\n",
       " ((2, 1, 1), 0),\n",
       " ((3, 0, 0), 2),\n",
       " ((3, 0, 1), 0),\n",
       " ((3, 1, 0), 0),\n",
       " ((3, 1, 1), 0),\n",
       " ((4, 0, 0), 2),\n",
       " ((4, 0, 1), 0),\n",
       " ((4, 1, 0), 0),\n",
       " ((4, 1, 1), 0),\n",
       " ((5, 0, 0), 2),\n",
       " ((5, 0, 1), 0),\n",
       " ((5, 1, 0), 0),\n",
       " ((5, 1, 1), 0),\n",
       " ((6, 0, 0), 2),\n",
       " ((6, 0, 1), 0),\n",
       " ((6, 1, 0), 0),\n",
       " ((6, 1, 1), 0),\n",
       " ((7, 0, 0), 2),\n",
       " ((7, 0, 1), 0),\n",
       " ((7, 1, 0), 0),\n",
       " ((7, 1, 1), 0),\n",
       " ((8, 0, 0), 2),\n",
       " ((8, 0, 1), 0),\n",
       " ((8, 1, 0), 0),\n",
       " ((8, 1, 1), 0),\n",
       " ((9, 0, 0), 1),\n",
       " ((9, 0, 1), 0),\n",
       " ((9, 1, 0), 0),\n",
       " ((9, 1, 1), 0),\n",
       " ((10, 0, 0), 2),\n",
       " ((10, 0, 1), 0),\n",
       " ((10, 1, 0), 0),\n",
       " ((10, 1, 1), 0),\n",
       " ((11, 0, 0), 2),\n",
       " ((11, 0, 1), 0),\n",
       " ((11, 1, 0), 0),\n",
       " ((11, 1, 1), 0),\n",
       " ((12, 0, 0), 2),\n",
       " ((12, 0, 1), 0),\n",
       " ((12, 1, 0), 0),\n",
       " ((12, 1, 1), 0),\n",
       " ((13, 0, 0), 2),\n",
       " ((13, 0, 1), 0),\n",
       " ((13, 1, 0), 0),\n",
       " ((13, 1, 1), 0),\n",
       " ((14, 0, 0), 2),\n",
       " ((14, 0, 1), 0),\n",
       " ((14, 1, 0), 0),\n",
       " ((14, 1, 1), 0),\n",
       " ((15, 0, 0), 1),\n",
       " ((15, 0, 1), 0),\n",
       " ((15, 1, 0), 0),\n",
       " ((15, 1, 1), 0),\n",
       " ((16, 0, 0), 2),\n",
       " ((16, 0, 1), 0),\n",
       " ((16, 1, 0), 0),\n",
       " ((16, 1, 1), 0),\n",
       " ((17, 0, 0), 1),\n",
       " ((17, 0, 1), 0),\n",
       " ((17, 1, 0), 0),\n",
       " ((17, 1, 1), 0),\n",
       " ((18, 0, 0), 2),\n",
       " ((18, 0, 1), 0),\n",
       " ((18, 1, 0), 0),\n",
       " ((18, 1, 1), 0),\n",
       " ((19, 0, 0), 1),\n",
       " ((19, 0, 1), 0),\n",
       " ((19, 1, 0), 0),\n",
       " ((19, 1, 1), 0),\n",
       " ((20, 0, 0), 2),\n",
       " ((20, 0, 1), 0),\n",
       " ((20, 1, 0), 0),\n",
       " ((20, 1, 1), 0),\n",
       " ((21, 0, 0), 2),\n",
       " ((21, 0, 1), 0),\n",
       " ((21, 1, 0), 0),\n",
       " ((21, 1, 1), 0),\n",
       " ((22, 0, 0), 2),\n",
       " ((22, 0, 1), 0),\n",
       " ((22, 1, 0), 0),\n",
       " ((22, 1, 1), 0),\n",
       " ((23, 0, 0), 1),\n",
       " ((23, 0, 1), 0),\n",
       " ((23, 1, 0), 0),\n",
       " ((23, 1, 1), 0),\n",
       " ((24, 0, 0), 2),\n",
       " ((24, 0, 1), 0),\n",
       " ((24, 1, 0), 0),\n",
       " ((24, 1, 1), 0),\n",
       " ((25, 0, 0), 1),\n",
       " ((25, 0, 1), 0),\n",
       " ((25, 1, 0), 0),\n",
       " ((25, 1, 1), 0))"
      ]
     },
     "execution_count": 235,
     "metadata": {},
     "output_type": "execute_result"
    }
   ],
   "source": [
    "tuple((key, value) for key, value in actions.items())"
   ]
  },
  {
   "cell_type": "code",
   "execution_count": null,
   "id": "f773af52",
   "metadata": {},
   "outputs": [],
   "source": []
  }
 ],
 "metadata": {
  "kernelspec": {
   "display_name": "Python 3.10.4 ('stochmod')",
   "language": "python",
   "name": "python3"
  },
  "language_info": {
   "codemirror_mode": {
    "name": "ipython",
    "version": 3
   },
   "file_extension": ".py",
   "mimetype": "text/x-python",
   "name": "python",
   "nbconvert_exporter": "python",
   "pygments_lexer": "ipython3",
   "version": "3.10.4"
  },
  "vscode": {
   "interpreter": {
    "hash": "f7d4fe2adb122edcb865ff39f7804beaa36c1269c4d22282d213a4f60985069a"
   }
  }
 },
 "nbformat": 4,
 "nbformat_minor": 5
}
