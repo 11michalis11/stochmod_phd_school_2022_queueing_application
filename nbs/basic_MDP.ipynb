{
 "cells": [
  {
   "cell_type": "code",
   "execution_count": null,
   "metadata": {},
   "outputs": [],
   "source": []
  },
  {
   "cell_type": "markdown",
   "metadata": {},
   "source": [
    "# Playground"
   ]
  },
  {
   "cell_type": "code",
   "execution_count": 11,
   "metadata": {},
   "outputs": [],
   "source": [
    "import copy\n",
    "import itertools\n",
    "\n",
    "import numpy as np"
   ]
  },
  {
   "cell_type": "code",
   "execution_count": 12,
   "metadata": {},
   "outputs": [],
   "source": [
    "def create_state_space_for_two_servers(queue_capacity):\n",
    "    \"\"\"\n",
    "    Create a state space for a given queue capacity.\n",
    "    \"\"\"\n",
    "    return tuple(itertools.product(range(queue_capacity + 1), range(2), range(2)))"
   ]
  },
  {
   "cell_type": "code",
   "execution_count": 13,
   "metadata": {},
   "outputs": [],
   "source": [
    "def calculate_costs_for_all_states(\n",
    "    V2, state_space, queue_capacity, arrival_rate, service_rate_1, service_rate_2\n",
    "):\n",
    "    \"\"\"\n",
    "    Calculate the costs for all states.\n",
    "    \"\"\"\n",
    "    V = np.zeros((queue_capacity + 1, 2, 2))\n",
    "    gamma = arrival_rate + service_rate_1 + service_rate_2\n",
    "\n",
    "    for s0, s1, s2 in state_space:\n",
    "        V[s0, s1, s2] = (\n",
    "            s0\n",
    "            + s1\n",
    "            + s2\n",
    "            + (arrival_rate / gamma) * V2[min(queue_capacity, s0 + 1), s1, s2]\n",
    "            + (service_rate_1 / gamma) * V2[s0, max(0, s1 - 1), s2]\n",
    "            + (service_rate_2 / gamma) * V2[s0, s1, max(0, s2 - 1)]\n",
    "        )\n",
    "    return V"
   ]
  },
  {
   "cell_type": "code",
   "execution_count": 14,
   "metadata": {},
   "outputs": [],
   "source": [
    "def update_temp_costs_for_state(state, V, V2):\n",
    "    \"\"\"\n",
    "    Get the temporary costs for a given state.\n",
    "    \"\"\"\n",
    "    s0, s1, s2 = state\n",
    "    if s0 > 0 and s1 == 0 and s2 == 0:\n",
    "        V2[s0, s1, s2] = min(\n",
    "            V[s0, s1, s2], V[s0 - 1, s1 + 1, s2], V[s0 - 1, s1, s2 + 1]\n",
    "        )\n",
    "    if s0 > 0 and s1 == 0 and s2 == 1:\n",
    "        V2[s0, s1, s2] = min(V[s0, s1, s2], V[s0 - 1, s1 + 1, s2])\n",
    "    if s0 > 0 and s1 == 1 and s2 == 0:\n",
    "        V2[s0, s1, s2] = min(V[s0, s1, s2], V[s0 - 1, s1, s2 + 1])\n",
    "    return V2"
   ]
  },
  {
   "cell_type": "code",
   "execution_count": 15,
   "metadata": {},
   "outputs": [],
   "source": [
    "def run_reinforcement_learning(\n",
    "    arrival_rate, service_rate_1, service_rate_2, queue_capacity, iterations=100,\n",
    "):\n",
    "    \"\"\"\n",
    "    Run the reinforcement learning algorithm.\n",
    "    \"\"\"\n",
    "    state_space = create_state_space_for_two_servers(\n",
    "        queue_capacity=queue_capacity\n",
    "    )\n",
    "    costs_array = np.zeros((queue_capacity + 1, 2, 2))\n",
    "    gamma = arrival_rate + service_rate_1 + service_rate_2\n",
    "\n",
    "    for _ in range(iterations):\n",
    "        \n",
    "        temp_costs = costs_array.copy()\n",
    "        for state in state_space:\n",
    "            temp_costs = update_temp_costs_for_state(\n",
    "                state=state, V=costs_array, V2=temp_costs\n",
    "            )\n",
    "        for state in state_space:\n",
    "            costs_array = calculate_costs_for_all_states(\n",
    "                V2=temp_costs, \n",
    "                state_space=state_space,\n",
    "                queue_capacity=queue_capacity,\n",
    "                arrival_rate=arrival_rate,\n",
    "                service_rate_1=service_rate_1,\n",
    "                service_rate_2=service_rate_2\n",
    "            )\n",
    "    return costs_array"
   ]
  },
  {
   "cell_type": "code",
   "execution_count": 16,
   "metadata": {},
   "outputs": [],
   "source": [
    "def get_all_actions(V, queue_capacity):\n",
    "    \"\"\"\n",
    "    Get all actions for a given state.\n",
    "    \"\"\"\n",
    "    actions = {}\n",
    "    for s0 in range(0, queue_capacity + 1):\n",
    "        actions[(s0, 0, 0)] = np.argmin(([V[s0, 0, 0], V[s0 - 1, 1, 0], V[s0 - 1, 0, 1]]))\n",
    "        actions[(s0, 0, 1)] = np.argmin(([V[s0, 0, 1], V[s0 - 1, 1, 1]]))\n",
    "        actions[(s0, 1, 0)] = np.argmin(([V[s0, 1, 0], float(\"inf\"), V[s0 - 1, 1, 1]]))\n",
    "        actions[(s0, 1, 1)] = np.argmin(([V[s0, 1, 1]]))\n",
    "    return actions"
   ]
  },
  {
   "cell_type": "code",
   "execution_count": 48,
   "metadata": {},
   "outputs": [],
   "source": [
    "λ = 2\n",
    "μ1 = 0.1\n",
    "μ2 = 2\n",
    "N = 20"
   ]
  },
  {
   "cell_type": "code",
   "execution_count": 49,
   "metadata": {},
   "outputs": [],
   "source": [
    "costs = run_reinforcement_learning(\n",
    "    arrival_rate=λ,\n",
    "    service_rate_1=μ1,\n",
    "    service_rate_2=μ2,\n",
    "    queue_capacity=N,\n",
    "    iterations=100\n",
    ")"
   ]
  },
  {
   "cell_type": "code",
   "execution_count": 28,
   "metadata": {},
   "outputs": [],
   "source": [
    "actions = get_all_actions(V=costs, queue_capacity=N)"
   ]
  },
  {
   "cell_type": "code",
   "execution_count": 29,
   "metadata": {},
   "outputs": [
    {
     "name": "stdout",
     "output_type": "stream",
     "text": [
      "0 in queue -> 0\n",
      "1 in queue -> 0\n",
      "2 in queue -> 0\n",
      "3 in queue -> 0\n",
      "4 in queue -> 0\n",
      "5 in queue -> 1\n",
      "6 in queue -> 1\n",
      "7 in queue -> 1\n",
      "8 in queue -> 1\n",
      "9 in queue -> 1\n",
      "10 in queue -> 1\n",
      "11 in queue -> 1\n",
      "12 in queue -> 1\n",
      "13 in queue -> 1\n",
      "14 in queue -> 1\n",
      "15 in queue -> 1\n",
      "16 in queue -> 1\n",
      "17 in queue -> 1\n",
      "18 in queue -> 1\n",
      "19 in queue -> 1\n",
      "20 in queue -> 1\n",
      "21 in queue -> 1\n",
      "22 in queue -> 1\n",
      "23 in queue -> 1\n",
      "24 in queue -> 1\n"
     ]
    }
   ],
   "source": [
    "for temp in range(25):\n",
    "    print(temp,  \"in queue ->\", actions[temp, 0, 1])"
   ]
  },
  {
   "cell_type": "code",
   "execution_count": 54,
   "metadata": {},
   "outputs": [],
   "source": [
    "def find_threshold(actions):\n",
    "    \"\"\"\n",
    "    Find the threshold for a given se t of actions\n",
    "    \"\"\"\n",
    "    for s0 in range(max(max(actions.keys()))):\n",
    "        if actions[(s0, 0, 1)] == 1:\n",
    "            return s0\n",
    "    return np.nan"
   ]
  },
  {
   "cell_type": "code",
   "execution_count": 55,
   "metadata": {},
   "outputs": [],
   "source": [
    "λ = 2\n",
    "μ1 = 0.1\n",
    "μ2 = 2\n",
    "N = 20"
   ]
  },
  {
   "cell_type": "code",
   "execution_count": 72,
   "metadata": {},
   "outputs": [],
   "source": [
    "mu_1_space = np.linspace(0.05, 0.1, 6)\n",
    "mu_2_space = np.linspace(2, 3, 6)\n",
    "λ = 2\n",
    "N = 20"
   ]
  },
  {
   "cell_type": "code",
   "execution_count": 73,
   "metadata": {},
   "outputs": [
    {
     "name": "stdout",
     "output_type": "stream",
     "text": [
      "NaN\n"
     ]
    }
   ],
   "source": [
    "all_threshold = np.zeros((len(mu_1_space), len(mu_2_space)))\n",
    "for (i, μ1) in enumerate(mu_1_space):\n",
    "    for (j, μ2) in enumerate(mu_2_space):\n",
    "        costs = run_reinforcement_learning(\n",
    "            arrival_rate=λ,\n",
    "            service_rate_1=μ1,\n",
    "            service_rate_2=μ2,\n",
    "            queue_capacity=N,\n",
    "            iterations=100\n",
    "        )\n",
    "        actions = get_all_actions(V=costs, queue_capacity=N)\n",
    "        threshold = find_threshold(actions)\n",
    "        all_threshold[i, j] = threshold\n",
    "        if np.isnan(threshold):\n",
    "            print(\"NaN\")\n",
    "            break"
   ]
  },
  {
   "cell_type": "code",
   "execution_count": 75,
   "metadata": {},
   "outputs": [],
   "source": [
    "for i, row in enumerate(all_threshold):\n",
    "    for j, val in enumerate(row):\n",
    "        if val == 0:\n",
    "            all_threshold[i, j] = np.nan"
   ]
  },
  {
   "cell_type": "code",
   "execution_count": 76,
   "metadata": {},
   "outputs": [
    {
     "data": {
      "text/plain": [
       "array([[ 7.,  9., 10., 12., 14., nan],\n",
       "       [ 7.,  8.,  9., 11., 13., 14.],\n",
       "       [ 6.,  7.,  8., 10., 11., 13.],\n",
       "       [ 6.,  7.,  8.,  9., 11., 12.],\n",
       "       [ 5.,  6.,  7.,  8., 10., 11.],\n",
       "       [ 5.,  6.,  7.,  8.,  9., 10.]])"
      ]
     },
     "execution_count": 76,
     "metadata": {},
     "output_type": "execute_result"
    }
   ],
   "source": [
    "all_threshold"
   ]
  },
  {
   "cell_type": "code",
   "execution_count": null,
   "metadata": {},
   "outputs": [],
   "source": []
  },
  {
   "cell_type": "code",
   "execution_count": 67,
   "metadata": {},
   "outputs": [],
   "source": [
    "import matplotlib.pyplot as plt"
   ]
  },
  {
   "cell_type": "code",
   "execution_count": 106,
   "metadata": {},
   "outputs": [
    {
     "ename": "AttributeError",
     "evalue": "module 'matplotlib.pyplot' has no attribute 'get_xlim'",
     "output_type": "error",
     "traceback": [
      "\u001b[1;31m---------------------------------------------------------------------------\u001b[0m",
      "\u001b[1;31mAttributeError\u001b[0m                            Traceback (most recent call last)",
      "\u001b[1;32mc:\\Users\\c1400990\\Desktop\\PhD\\rsch\\Courses\\Stochmod Phd School\\basic_MDP.ipynb Cell 24\u001b[0m in \u001b[0;36m<cell line: 1>\u001b[1;34m()\u001b[0m\n\u001b[1;32m----> <a href='vscode-notebook-cell:/c%3A/Users/c1400990/Desktop/PhD/rsch/Courses/Stochmod%20Phd%20School/basic_MDP.ipynb#ch0000050?line=0'>1</a>\u001b[0m plt\u001b[39m.\u001b[39;49mget_xlim()\n",
      "\u001b[1;31mAttributeError\u001b[0m: module 'matplotlib.pyplot' has no attribute 'get_xlim'"
     ]
    }
   ],
   "source": [
    "plt.get_xlim()"
   ]
  },
  {
   "cell_type": "code",
   "execution_count": 117,
   "metadata": {},
   "outputs": [
    {
     "data": {
      "image/png": "[encoded data removed]",
      "text/plain": [
       "<Figure size 1440x720 with 2 Axes>"
      ]
     },
     "metadata": {
      "needs_background": "light"
     },
     "output_type": "display_data"
    }
   ],
   "source": [
    "\n",
    "\n",
    "plt.figure(figsize=(20, 10))\n",
    "plt.imshow(all_threshold, cmap='hot')\n",
    "plt.colorbar()\n",
    "plt.title(\"Optimal threshold policy $(μ_1 \\in [0.05, 0.1], μ_2 \\in [2, 3])$\", fontsize=18)\n",
    "plt.ylabel(\"$μ_1$ \", fontsize=18)\n",
    "plt.xlabel(\"$μ_2$\", fontsize=18);"
   ]
  },
  {
   "cell_type": "code",
   "execution_count": 101,
   "metadata": {},
   "outputs": [
    {
     "data": {
      "text/plain": [
       "(array([0.05, 0.06, 0.07, 0.08, 0.09, 0.1 ]),\n",
       " array([2. , 2.2, 2.4, 2.6, 2.8, 3. ]))"
      ]
     },
     "execution_count": 101,
     "metadata": {},
     "output_type": "execute_result"
    }
   ],
   "source": [
    "mu_1_space, mu_2_space"
   ]
  },
  {
   "cell_type": "code",
   "execution_count": 118,
   "metadata": {},
   "outputs": [],
   "source": [
    "new_mu_1_space = np.linspace(0.05, 0.5, 20)\n",
    "mu_2 = 2\n",
    "λ = 2\n",
    "N = 20"
   ]
  },
  {
   "cell_type": "code",
   "execution_count": 120,
   "metadata": {},
   "outputs": [],
   "source": [
    "plot_thresholds = []\n",
    "for (i, μ1) in enumerate(new_mu_1_space):\n",
    "    costs = run_reinforcement_learning(\n",
    "        arrival_rate=λ,\n",
    "        service_rate_1=μ1,\n",
    "        service_rate_2=μ2,\n",
    "        queue_capacity=N,\n",
    "        iterations=100\n",
    "    )\n",
    "    actions = get_all_actions(V=costs, queue_capacity=N)\n",
    "    threshold = find_threshold(actions)\n",
    "    plot_thresholds.append(threshold)"
   ]
  },
  {
   "cell_type": "code",
   "execution_count": 127,
   "metadata": {},
   "outputs": [
    {
     "data": {
      "image/png": "[encoded data removed]",
      "text/plain": [
       "<Figure size 1440x720 with 1 Axes>"
      ]
     },
     "metadata": {
      "needs_background": "light"
     },
     "output_type": "display_data"
    }
   ],
   "source": [
    "plt.figure(figsize=(20, 10))\n",
    "plt.plot(new_mu_1_space, plot_thresholds)\n",
    "plt.title(\"Optimal threshold policy over different values of $μ_1$\", fontsize=18)\n",
    "plt.xlabel(\"$μ_1$ \", fontsize=18)\n",
    "plt.ylabel(\"Threshold\", fontsize=18);"
   ]
  },
  {
   "cell_type": "code",
   "execution_count": null,
   "metadata": {},
   "outputs": [],
   "source": []
  },
  {
   "cell_type": "code",
   "execution_count": null,
   "metadata": {},
   "outputs": [],
   "source": []
  },
  {
   "cell_type": "code",
   "execution_count": null,
   "metadata": {},
   "outputs": [],
   "source": []
  },
  {
   "cell_type": "code",
   "execution_count": null,
   "metadata": {},
   "outputs": [],
   "source": []
  },
  {
   "cell_type": "code",
   "execution_count": null,
   "metadata": {},
   "outputs": [],
   "source": []
  },
  {
   "cell_type": "code",
   "execution_count": 153,
   "metadata": {},
   "outputs": [],
   "source": [
    "# queue with 2 servers at different speeds\n",
    "la=2;mu1=0.1;mu2=2\n",
    "N=20\n",
    "V=array(0,dim=c(N+1,2,2))\n",
    "gamma=la+mu1+mu2\n",
    "for(iter in 1:1000)\n",
    "{\n",
    "  # decision\n",
    "  V2=V\n",
    "  for(x in 0:N)for(y1 in 0:1)for(y2 in 0:1)\n",
    "  {\n",
    "    if(x>0 && y1==0 && y2==0)V2[x+1,y1+1,y2+1]=\n",
    "        min(V[x+1,y1+1,y2+1],V[x,y1+2,y2+1],V[x,y1+1,y2+2])\n",
    "    if(x>0 && y1==0 && y2==1)V2[x+1,y1+1,y2+1]=\n",
    "        min(V[x+1,y1+1,y2+1],V[x,y1+2,y2+1])\n",
    "    if(x>0 && y1==1 && y2==0)V2[x+1,y1+1,y2+1]=\n",
    "        min(V[x+1,y1+1,y2+1],V[x,y1+1,y2+2])\n",
    "  }\n",
    "  # costs & arrivals & departures\n",
    "  for(x in 0:N)for(y1 in 0:1)for(y2 in 0:1)\n",
    "    V[x+1,y1+1,y2+1]=x+y1+y2+\n",
    "      la/gamma*V2[min(N+1,x+2),y1+1,y2+1]+\n",
    "      mu1/gamma*V2[x+1,max(1,y1-1),y2+1]+\n",
    "      mu2/gamma*V2[x+1,y1+1,max(1,y2-1)]\n",
    "}\n",
    "# optimal policy\n",
    "# N=10;y1=0;y2=0\n",
    "# for(x in 1:N)print(which.min(c(V[x+1,y1+1,y2+1],V[x,y1+2,y2+1],V[x,y1+1,y2+2])))\n",
    "y1=0;y2=1\n",
    "for(x in 0:10)print(which.min(c(V[x+1,y1+1,y2+1],V[x,y1+2,y2+1])))\n",
    "y1=1;y2=0  \n",
    "for(x in 1:N)print(which.min(c(V[x+1,y1+1,y2+1],V[x,y1+1,y2+2])))"
   ]
  },
  {
   "cell_type": "code",
   "execution_count": null,
   "metadata": {},
   "outputs": [],
   "source": []
  },
  {
   "cell_type": "markdown",
   "metadata": {},
   "source": [
    "## Old way"
   ]
  },
  {
   "cell_type": "code",
   "execution_count": 27,
   "metadata": {},
   "outputs": [],
   "source": [
    "# Queue with 2 servers at different speeds\n",
    "λ = 2\n",
    "μ1 = 10\n",
    "μ2 = 2\n",
    "\n",
    "N = 10\n",
    "V = np.zeros((N + 1, 2, 2))\n",
    "gamma = λ + μ1 + μ2\n",
    "\n",
    "for iter in range(100):\n",
    "  V2 = copy.deepcopy(V)\n",
    "  # decision\n",
    "  for s0, s1, s2 in itertools.product(range(N + 1), range(2), range(2)):\n",
    "    if s0 > 0 and s1 == 0 and s2 == 0:\n",
    "      V2[s0, s1, s2] = min(\n",
    "        V[s0, s1, s2], V[s0 - 1, s1 + 1, s2], V[s0 - 1, s1, s2 + 1]\n",
    "      )\n",
    "    if s0 > 0 and s1 == 0 and s2 == 1:\n",
    "        V2[s0, s1, s2] = min(V[s0, s1, s2], V[s0 - 1, s1 + 1, s2])\n",
    "    if s0 > 0 and s1 == 1 and s2 == 0:\n",
    "        V2[s0, s1, s2] = min(V[s0, s1, s2], V[s0 - 1, s1, s2 + 1])\n",
    "\n",
    "    # costs & arrivals & departures\n",
    "    for s0, s1, s2 in itertools.product(range(N + 1), range(2), range(2)):\n",
    "        V[s0, s1, s2] = (\n",
    "            s0\n",
    "            + s1\n",
    "            + s2\n",
    "            + (λ / gamma) * V2[min(N, s0 + 1), s1, s2]\n",
    "            + (μ1 / gamma) * V2[s0, max(0, s1 - 1), s2]\n",
    "            + (μ2 / gamma) * V2[s0, s1, max(0, s2 - 1)]\n",
    "        )\n"
   ]
  },
  {
   "cell_type": "code",
   "execution_count": null,
   "metadata": {},
   "outputs": [],
   "source": []
  },
  {
   "cell_type": "markdown",
   "metadata": {},
   "source": [
    "## Actions:\n",
    "\n",
    "- $s_0$ = Wait\n",
    "- $s_1$ = Send to server 1\n",
    "- $s_2$ = Send to server 2"
   ]
  },
  {
   "cell_type": "code",
   "execution_count": 28,
   "metadata": {},
   "outputs": [],
   "source": [
    "# optimal policy\n",
    "# Both servers are idle\n",
    "\n",
    "actions = {}\n",
    "for s0 in range(0, N + 1):\n",
    "  actions[(s0, 0, 0)] = np.argmin(([V[s0, 0, 0], V[s0 - 1, 1, 0], V[s0 - 1, 0, 1]]))\n",
    "  actions[(s0, 0, 1)] = np.argmin(([V[s0, 0, 1], V[s0 - 1, 1, 1]]))\n",
    "  actions[(s0, 1, 0)] = np.argmin(([V[s0, 1, 0], float(\"inf\"), V[s0 - 1, 1, 1]]))\n",
    "  actions[(s0, 1, 1)] = np.argmin(([V[s0, 1, 1]]))"
   ]
  },
  {
   "cell_type": "code",
   "execution_count": 29,
   "metadata": {},
   "outputs": [
    {
     "data": {
      "text/plain": [
       "2"
      ]
     },
     "execution_count": 29,
     "metadata": {},
     "output_type": "execute_result"
    }
   ],
   "source": [
    "actions[3, 1, 0]"
   ]
  },
  {
   "cell_type": "code",
   "execution_count": 30,
   "metadata": {},
   "outputs": [
    {
     "data": {
      "text/plain": [
       "array([[[ 29.21745392,  36.21292412],\n",
       "        [ 31.02044959,  37.97849774]],\n",
       "\n",
       "       [[ 32.53768103,  39.52994009],\n",
       "        [ 34.87030219,  41.82953467]],\n",
       "\n",
       "       [[ 37.63017402,  44.62711956],\n",
       "        [ 40.42066512,  47.4037399 ]],\n",
       "\n",
       "       [[ 44.40407029,  51.43201447],\n",
       "        [ 47.41883526,  54.62472549]],\n",
       "\n",
       "       [[ 52.76495369,  59.84481686],\n",
       "        [ 55.79893619,  63.24565624]],\n",
       "\n",
       "       [[ 62.50629384,  69.65465843],\n",
       "        [ 65.56460906,  73.26625796]],\n",
       "\n",
       "       [[ 73.63198353,  80.86168759],\n",
       "        [ 76.71847604,  84.68488556]],\n",
       "\n",
       "       [[ 86.14459587,  93.46373634],\n",
       "        [ 89.26097784,  97.49166838]],\n",
       "\n",
       "       [[100.04303698, 107.44536377],\n",
       "        [103.18259438, 111.62738254]],\n",
       "\n",
       "       [[115.26229785, 122.71198923],\n",
       "        [118.41652899, 126.73668474]],\n",
       "\n",
       "       [[129.17412218, 136.65631866],\n",
       "        [132.33485434, 140.6875152 ]]])"
      ]
     },
     "execution_count": 30,
     "metadata": {},
     "output_type": "execute_result"
    }
   ],
   "source": [
    "V"
   ]
  },
  {
   "cell_type": "code",
   "execution_count": null,
   "metadata": {},
   "outputs": [],
   "source": []
  },
  {
   "cell_type": "code",
   "execution_count": 110,
   "metadata": {},
   "outputs": [
    {
     "name": "stdout",
     "output_type": "stream",
     "text": [
      "0\n",
      "0\n",
      "0\n",
      "0\n",
      "0\n",
      "0\n",
      "0\n",
      "0\n",
      "0\n",
      "0\n",
      "0\n",
      "0\n",
      "0\n",
      "0\n",
      "0\n",
      "0\n",
      "0\n",
      "0\n",
      "0\n",
      "0\n",
      "0\n",
      "0\n",
      "0\n",
      "1\n",
      "1\n",
      "1\n",
      "1\n",
      "1\n",
      "1\n",
      "1\n",
      "1\n",
      "1\n",
      "1\n",
      "1\n",
      "1\n",
      "1\n",
      "1\n",
      "1\n",
      "1\n",
      "1\n",
      "1\n",
      "1\n",
      "1\n",
      "1\n",
      "1\n",
      "1\n",
      "1\n",
      "1\n",
      "1\n",
      "1\n",
      "1\n",
      "1\n",
      "1\n",
      "1\n",
      "1\n",
      "1\n",
      "1\n",
      "1\n",
      "1\n",
      "1\n",
      "1\n",
      "1\n",
      "1\n",
      "1\n",
      "1\n",
      "1\n",
      "1\n",
      "1\n",
      "1\n",
      "1\n",
      "1\n",
      "1\n",
      "1\n",
      "1\n",
      "1\n",
      "1\n",
      "1\n",
      "1\n",
      "1\n",
      "1\n",
      "1\n",
      "1\n",
      "1\n",
      "1\n",
      "1\n",
      "1\n",
      "1\n",
      "1\n",
      "1\n",
      "1\n",
      "1\n",
      "1\n",
      "1\n",
      "1\n",
      "1\n",
      "1\n",
      "1\n",
      "1\n",
      "1\n",
      "1\n"
     ]
    }
   ],
   "source": [
    "y1 = 0\n",
    "y2 = 1\n",
    "\n",
    "for x in range(1, N + 1):\n",
    "  print(np.argmin(([V[x, y1, y2], V[x - 1, y1 + 1, y2]])))\n"
   ]
  },
  {
   "cell_type": "code",
   "execution_count": 111,
   "metadata": {},
   "outputs": [
    {
     "name": "stdout",
     "output_type": "stream",
     "text": [
      "1\n",
      "1\n",
      "1\n",
      "1\n",
      "1\n",
      "1\n",
      "1\n",
      "1\n",
      "1\n",
      "1\n",
      "1\n",
      "1\n",
      "1\n",
      "1\n",
      "1\n",
      "1\n",
      "1\n",
      "1\n",
      "1\n",
      "1\n",
      "1\n",
      "1\n",
      "1\n",
      "1\n",
      "1\n",
      "1\n",
      "1\n",
      "1\n",
      "1\n",
      "1\n",
      "1\n",
      "1\n",
      "1\n",
      "1\n",
      "1\n",
      "1\n",
      "1\n",
      "1\n",
      "1\n",
      "1\n",
      "1\n",
      "1\n",
      "1\n",
      "1\n",
      "1\n",
      "1\n",
      "1\n",
      "1\n",
      "1\n",
      "1\n",
      "1\n",
      "1\n",
      "1\n",
      "1\n",
      "1\n",
      "1\n",
      "1\n",
      "1\n",
      "1\n",
      "1\n",
      "1\n",
      "1\n",
      "1\n",
      "1\n",
      "1\n",
      "1\n",
      "1\n",
      "1\n",
      "1\n",
      "1\n",
      "1\n",
      "1\n",
      "1\n",
      "1\n",
      "1\n",
      "1\n",
      "1\n",
      "1\n",
      "1\n",
      "1\n",
      "1\n",
      "0\n",
      "0\n",
      "0\n",
      "0\n",
      "0\n",
      "0\n",
      "0\n",
      "0\n",
      "0\n",
      "0\n",
      "0\n",
      "0\n",
      "0\n",
      "0\n",
      "0\n",
      "0\n",
      "0\n",
      "0\n",
      "0\n"
     ]
    }
   ],
   "source": [
    "y1 = 1\n",
    "y2 = 0\n",
    "\n",
    "for x in range(1, N + 1):\n",
    "  print(np.argmin(([V[x, y1, y2], V[x - 1, y1, y2 + 1]])))\n"
   ]
  },
  {
   "cell_type": "code",
   "execution_count": null,
   "metadata": {},
   "outputs": [],
   "source": []
  },
  {
   "cell_type": "code",
   "execution_count": null,
   "metadata": {},
   "outputs": [],
   "source": [
    "# queue with 2 servers at different speeds\n",
    "la=2;mu1=0.1;mu2=2\n",
    "N=100\n",
    "V=array(0,dim=c(N+1,2,2))\n",
    "gamma=la+mu1+mu2\n",
    "for(iter in 1:1000)\n",
    "{\n",
    "  # decision\n",
    "  V2=V\n",
    "  for(x in 0:N)for(y1 in 0:1)for(y2 in 0:1)\n",
    "  {\n",
    "    if(x>0 && y1==0 && y2==0)V2[x+1,y1+1,y2+1]=\n",
    "        min(V[x+1,y1+1,y2+1],V[x,y1+2,y2+1],V[x,y1+1,y2+2])\n",
    "    if(x>0 && y1==0 && y2==1)V2[x+1,y1+1,y2+1]=\n",
    "        min(V[x+1,y1+1,y2+1],V[x,y1+2,y2+1])\n",
    "    if(x>0 && y1==1 && y2==0)V2[x+1,y1+1,y2+1]=\n",
    "        min(V[x+1,y1+1,y2+1],V[x,y1+1,y2+2])\n",
    "  }\n",
    "  # costs & arrivals & departures\n",
    "  for(x in 0:N)for(y1 in 0:1)for(y2 in 0:1)\n",
    "    V[x+1,y1+1,y2+1]=x+y1+y2+\n",
    "      la/gamma*V2[min(N+1,x+2),y1+1,y2+1]+\n",
    "      mu1/gamma*V2[x+1,max(1,y1-1),y2+1]+\n",
    "      mu2/gamma*V2[x+1,y1+1,max(1,y2-1)]\n",
    "}\n",
    "# optimal policy\n",
    "N=10;y1=0;y2=0\n",
    "for(x in 1:N)print(which.min(c(V[x+1,y1+1,y2+1],V[x,y1+2,y2+1],V[x,y1+1,y2+2])))\n",
    "y1=0;y2=1\n",
    "for(x in 1:N)print(which.min(c(V[x+1,y1+1,y2+1],V[x,y1+2,y2+1])))\n",
    "y1=1;y2=0  \n",
    "for(x in 1:N)print(which.min(c(V[x+1,y1+1,y2+1],V[x,y1+1,y2+2])))\n"
   ]
  },
  {
   "cell_type": "code",
   "execution_count": null,
   "metadata": {},
   "outputs": [],
   "source": []
  }
 ],
 "metadata": {
  "kernelspec": {
   "display_name": "Python 3.10.4 ('stochmod')",
   "language": "python",
   "name": "python3"
  },
  "language_info": {
   "codemirror_mode": {
    "name": "ipython",
    "version": 3
   },
   "file_extension": ".py",
   "mimetype": "text/x-python",
   "name": "python",
   "nbconvert_exporter": "python",
   "pygments_lexer": "ipython3",
   "version": "3.10.4"
  },
  "orig_nbformat": 4,
  "vscode": {
   "interpreter": {
    "hash": "f7d4fe2adb122edcb865ff39f7804beaa36c1269c4d22282d213a4f60985069a"
   }
  }
 },
 "nbformat": 4,
 "nbformat_minor": 2
}
